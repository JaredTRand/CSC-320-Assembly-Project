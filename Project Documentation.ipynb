{
 "cells": [
  {
   "cell_type": "markdown",
   "metadata": {},
   "source": [
    "## By Jared Rand\n",
    "I have used the following resources:<br>\n",
    "-  Jupyter Markdown: __[IBM Watson Reference](https://medium.com/ibm-data-science-experience/markdown-for-jupyter-notebooks-cheatsheet-386c05aeebed)__\n",
    "-  Think In Geek: __[Thinkingeek Reference](https://thinkingeek.com/arm-assembler-raspberry-pi/)__\n",
    "\n",
    "\n",
    "I certify that this work contains a unique contribution by me. Possibly even two!"
   ]
  },
  {
   "cell_type": "markdown",
   "metadata": {},
   "source": [
    "# Introduction\n",
    "\n",
    "This project was split into three parts, in which we were meant to:\n",
    "-    Code up various statmentments in assembly to understand how it works\n",
    "-    Create a Non-Recursive Merge Sort\n",
    "-    Create a Reursive Merge Sort\n",
    "\n"
   ]
  },
  {
   "cell_type": "markdown",
   "metadata": {},
   "source": [
    "# Sub Project 1 Solution Discussion "
   ]
  },
  {
   "cell_type": "markdown",
   "metadata": {},
   "source": [
    "## C/C++   goto statement\n",
    "Discuss the subproblem, when it is tested, direct the reader to the appropriate testing sections."
   ]
  },
  {
   "cell_type": "markdown",
   "metadata": {},
   "source": [
    "## C/C++   if-then-else statement\n",
    "Discuss the subproblem, when it is tested, direct the reader to the appropriate testing sections."
   ]
  },
  {
   "cell_type": "markdown",
   "metadata": {},
   "source": [
    "## C/C++   x= (cond) ? thenbody :else body\n",
    "Discuss the subproblem, when it is tested, direct the reader to the appropriate testing sections."
   ]
  },
  {
   "cell_type": "markdown",
   "metadata": {},
   "source": [
    "## C/C++   counted for statement\n",
    "Discuss the subproblem, when it is tested, direct the reader to the appropriate testing sections."
   ]
  },
  {
   "cell_type": "markdown",
   "metadata": {},
   "source": [
    "## C/C++    do...while() condition\n",
    "Discuss the subproblem, when it is tested, direct the reader to the appropriate testing sections."
   ]
  },
  {
   "cell_type": "code",
   "execution_count": null,
   "metadata": {
    "scrolled": false
   },
   "outputs": [],
   "source": [
    "%%writefile test.txt\n",
    "This is a text file, anything which is written in the box is put into the test.txt.  Using the \n",
    "__[Geany Editor](https://www.geany.org/)__ on the Rasperry PI is a better experience and the file output\n",
    "into the the next cell"
   ]
  },
  {
   "cell_type": "code",
   "execution_count": null,
   "metadata": {},
   "outputs": [],
   "source": [
    "# %load test.txt\n",
    "This is a text file, anything which is written in the box is put into the test.txt.  Using the \n",
    "__[Geany Editor](https://www.geany.org/)__ on the Rasperry PI is a better experience and the file output\n",
    "into the the next cell"
   ]
  },
  {
   "cell_type": "markdown",
   "metadata": {},
   "source": [
    "# Testing Design & Result\n",
    "If the problem is broken into subproblems, each should be tested as a unit. The following should be asked and answered in the design:\n",
    "-  What was tested and why?  \n",
    "-  How do you know it works?\n",
    "\n",
    "Results:\n",
    "__[YOUTUBE LINKK](https://www.makeuseof.com/tag/ways-can-record-desktop-linux-raspberry-pi/)__   "
   ]
  },
  {
   "cell_type": "markdown",
   "metadata": {},
   "source": [
    "# Commented Program Listing\n",
    "\n",
    "The code needs to be provided for the testing results to be independently verified.  Zip files or tar.gz is fine.  Everything required to build and run the project needs to be provided.\n"
   ]
  },
  {
   "cell_type": "code",
   "execution_count": null,
   "metadata": {},
   "outputs": [],
   "source": []
  }
 ],
 "metadata": {
  "kernelspec": {
   "display_name": "Python 3",
   "language": "python",
   "name": "python3"
  },
  "language_info": {
   "codemirror_mode": {
    "name": "ipython",
    "version": 3
   },
   "file_extension": ".py",
   "mimetype": "text/x-python",
   "name": "python",
   "nbconvert_exporter": "python",
   "pygments_lexer": "ipython3",
   "version": "3.6.5"
  }
 },
 "nbformat": 4,
 "nbformat_minor": 2
}
