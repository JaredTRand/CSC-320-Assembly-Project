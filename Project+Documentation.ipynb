{
 "cells": [
  {
   "cell_type": "markdown",
   "metadata": {},
   "source": [
    "## By Jared Rand\n",
    "I have used the following resources:<br>\n",
    "-  Jupyter Markdown: __[IBM Watson Reference](https://medium.com/ibm-data-science-experience/markdown-for-jupyter-notebooks-cheatsheet-386c05aeebed)__\n",
    "-  Think In Geek: __[Thinkingeek Reference](https://thinkingeek.com/arm-assembler-raspberry-pi/)__\n",
    "-  Stack Overflow: __[StackOverflow Reference](https://stackoverflow.com/)__\n",
    "\n",
    "\n",
    "I certify that this work contains a unique contribution by me. Possibly even two!"
   ]
  },
  {
   "cell_type": "markdown",
   "metadata": {},
   "source": [
    "# Introduction\n",
    "\n",
    "This project was split into three parts, in which we were meant to:\n",
    "-    Code up various statmentments in assembly to understand how it works\n",
    "-    Create a Non-Recursive Merge Sort\n",
    "-    Create a Reursive Merge Sort\n",
    "\n"
   ]
  },
  {
   "cell_type": "markdown",
   "metadata": {},
   "source": [
    "# Sub Project 1 Solution Discussion "
   ]
  },
  {
   "cell_type": "markdown",
   "metadata": {},
   "source": [
    "## C/C++   goto statement\n",
    "With this subproblem, we needed to write something like:\n",
    "\n",
    "\"goto label;\n",
    "\n",
    "label: statement;\"\n",
    "\n",
    "But then translate it to assembly. This one is quite simple, you just need three functions. In the main function, you can tell the computer to go to a different function with \"beq\". Type in \"beq otherfunction\" and it'll skip right there.\n",
    "``` c\n",
    ".text\n",
    ".global main\n",
    "main:\n",
    "\tmov r0, #4\n",
    "\tbeq evenlessmain\n",
    "\t\n",
    "lessmain:\n",
    "\tmov r0, #1\n",
    "\tbx lr\n",
    "\t\n",
    "evenlessmain:\n",
    "\tmov r0, #2\n",
    "\tbx lr\n",
    "```"
   ]
  },
  {
   "cell_type": "code",
   "execution_count": null,
   "metadata": {
    "collapsed": true
   },
   "outputs": [],
   "source": [
    "$ ./subprob1test ; echo $?\n",
    "2"
   ]
  },
  {
   "cell_type": "markdown",
   "metadata": {},
   "source": [
    "It skips right over the lessmain function and goes into the evenlessmain function."
   ]
  },
  {
   "cell_type": "markdown",
   "metadata": {},
   "source": [
    "## C/C++    do...while() condition\n",
    "In this subproblem, we were meant to make the following in assembly:\n",
    "``` c\n",
    "do{\n",
    "   something;\n",
    "}while(condition);\n",
    "```\n",
    "To do this, you need to figure out how :\n",
    "- Iterate a variable\n",
    "- compare that variable to a constant\n",
    "- Start the loop over again.\n",
    "\n",
    "``` c\n",
    ".data\n",
    ".balign 4\n",
    "\tstring: \t.asciz \"\\n x = %d\"\n",
    ".balign 4\n",
    "\tcomment: \t.asciz \"\\n Limit = %d\"\n",
    ".balign 4\n",
    "\tx: \t\t\t.word 0\n",
    ".balign 4\n",
    "\tlimit: \t\t.word 15\n",
    "\t\n",
    "\t\n",
    ".text\n",
    ".balign 4\n",
    ".global main\n",
    ".extern printf\n",
    "\n",
    "main:\n",
    "\tpush {ip,lr}\n",
    "\t\n",
    "\tldr \tr0, =x\n",
    "\tmov \tr1, #1\n",
    "\tstr \tr1, [r0]\n",
    "\t\n",
    "\tldr r0, =comment\n",
    "\tldr r1, =limit\n",
    "\tldr r1, [r1]\n",
    "\tbl printf\n",
    "\t\n",
    "dooo:\n",
    "\tldr\t\tr0, =string\n",
    "\tldr \tr1, =x\n",
    "\tldr \tr1, [r1]\n",
    "\tbl printf\n",
    "\t\n",
    "\tldr r0, =x\n",
    "\tldr r1, [r0]\n",
    "\tadd r1, r1,#1\n",
    "\tstr r1, [r0]\n",
    "\tldr r2,=limit\n",
    "\tldr r2, [r2]\n",
    "\tcmp r1, r2\n",
    "\tblt dooo\t\t\t\t@BLTs are an overrated sandwich :/\n",
    "\n",
    "\t\n",
    "\tpop {ip,pc}\n",
    "```"
   ]
  },
  {
   "cell_type": "code",
   "execution_count": 2,
   "metadata": {
    "collapsed": true,
    "scrolled": false
   },
   "outputs": [],
   "source": [
    "x = 1\n",
    "x = 2\n",
    "x = 3\n",
    "x = 4\n",
    "x = 5\n",
    "...\n",
    "x = 14"
   ]
  },
  {
   "cell_type": "markdown",
   "metadata": {},
   "source": [
    "# Testing Design & Result\n",
    "If the problem is broken into subproblems, each should be tested as a unit. The following should be asked and answered in the design:\n",
    "-  What was tested and why?  \n",
    "-  How do you know it works?\n",
    "\n",
    "# Results:\n",
    "__[YOUTUBE LINKK](https://www.makeuseof.com/tag/ways-can-record-desktop-linux-raspberry-pi/)__   "
   ]
  },
  {
   "cell_type": "code",
   "execution_count": null,
   "metadata": {
    "collapsed": true,
    "scrolled": false
   },
   "outputs": [],
   "source": []
  },
  {
   "cell_type": "markdown",
   "metadata": {},
   "source": [
    "# Sub Project 2 Solution Discussion "
   ]
  },
  {
   "cell_type": "markdown",
   "metadata": {},
   "source": [
    "# Discussion of Solution"
   ]
  },
  {
   "cell_type": "markdown",
   "metadata": {},
   "source": [
    "# Sub Project 3 Solution Discussion "
   ]
  },
  {
   "cell_type": "markdown",
   "metadata": {
    "collapsed": true
   },
   "source": [
    "# Discussion of Solution"
   ]
  },
  {
   "cell_type": "code",
   "execution_count": null,
   "metadata": {
    "collapsed": true
   },
   "outputs": [],
   "source": []
  }
 ],
 "metadata": {
  "kernelspec": {
   "display_name": "Python 3",
   "language": "python",
   "name": "python3"
  },
  "language_info": {
   "codemirror_mode": {
    "name": "ipython",
    "version": 3
   },
   "file_extension": ".py",
   "mimetype": "text/x-python",
   "name": "python",
   "nbconvert_exporter": "python",
   "pygments_lexer": "ipython3",
   "version": "3.6.1"
  }
 },
 "nbformat": 4,
 "nbformat_minor": 2
}
