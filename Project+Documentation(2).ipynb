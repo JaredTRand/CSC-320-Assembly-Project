{
 "cells": [
  {
   "cell_type": "markdown",
   "metadata": {},
   "source": [
    "## By Jared Rand\n",
    "I have used the following resources:<br>\n",
    "-  Jupyter Markdown: __[IBM Watson Reference](https://medium.com/ibm-data-science-experience/markdown-for-jupyter-notebooks-cheatsheet-386c05aeebed)__\n",
    "-  Think In Geek: __[Thinkingeek Reference](https://thinkingeek.com/arm-assembler-raspberry-pi/)__\n",
    "-  Stack Overflow: __[StackOverflow Reference](https://stackoverflow.com/)__\n",
    "-  Arm Reference Sheet: __[ARM Reference](https://github.com/oowekyala/arm-cheatsheet/blob/master/arm-cheatsheet.pdf)__\n",
    "\n",
    "\n",
    "I certify that this work contains a unique contribution by me. Possibly even two!"
   ]
  },
  {
   "cell_type": "markdown",
   "metadata": {},
   "source": [
    "# Introduction\n",
    "\n",
    "This project was split into three parts, in which we were meant to:\n",
    "-    Code up various statmentments in assembly to understand how it works\n",
    "-    Create a Non-Recursive Merge Sort\n",
    "-    Create a Reursive Merge Sort\n",
    "\n"
   ]
  },
  {
   "cell_type": "markdown",
   "metadata": {},
   "source": [
    "# Watch Each Program Run:\n",
    "__[Do While](https://youtu.be/EMV7AQqnN4s)__ \n",
    "\n",
    "__[Non-Recursive Merge Sort](https://youtu.be/Jeu4Mhx4Z5c)__ \n",
    "\n",
    "__[Recursive Merge Sort](https://www.youtube.com)__ \n"
   ]
  },
  {
   "cell_type": "markdown",
   "metadata": {},
   "source": [
    "# Sub Project 1 Solution Discussion "
   ]
  },
  {
   "cell_type": "markdown",
   "metadata": {},
   "source": [
    "## C/C++   goto statement\n",
    "With this subproblem, we needed to write something like:\n",
    "\n",
    "\"goto label;\n",
    "\n",
    "label: statement;\"\n",
    "\n",
    "But then translate it to assembly. This one is quite simple, you just need three functions. In the main function, you can tell the computer to go to a different function with \"b\". Type in \"b otherfunction\" and it'll skip right there.\n",
    "``` c\n",
    ".text\n",
    ".global main\n",
    "main:\n",
    "\tmov r0, #4\n",
    "\tb evenlessmain\n",
    "\t\n",
    "lessmain:\n",
    "\tmov r0, #1\n",
    "\tbx lr\n",
    "\t\n",
    "evenlessmain:\n",
    "\tmov r0, #2\n",
    "\tbx lr\n",
    "```"
   ]
  },
  {
   "cell_type": "code",
   "execution_count": 1,
   "metadata": {
    "scrolled": true
   },
   "outputs": [
    {
     "ename": "SyntaxError",
     "evalue": "invalid syntax (<ipython-input-1-bf12d7de8bf1>, line 1)",
     "output_type": "error",
     "traceback": [
      "\u001b[1;36m  File \u001b[1;32m\"<ipython-input-1-bf12d7de8bf1>\"\u001b[1;36m, line \u001b[1;32m1\u001b[0m\n\u001b[1;33m    $ ./subprob1test ; echo $?\u001b[0m\n\u001b[1;37m    ^\u001b[0m\n\u001b[1;31mSyntaxError\u001b[0m\u001b[1;31m:\u001b[0m invalid syntax\n"
     ]
    }
   ],
   "source": [
    "$ ./subprob1test ; echo $?\n",
    "2"
   ]
  },
  {
   "cell_type": "markdown",
   "metadata": {},
   "source": [
    "It skips right over the lessmain function and goes into the evenlessmain function."
   ]
  },
  {
   "cell_type": "markdown",
   "metadata": {},
   "source": [
    "## C/C++    do...while() condition\n",
    "In this subproblem, we were meant to make the following in assembly:\n",
    "``` c\n",
    "do{\n",
    "   something;\n",
    "}while(condition);\n",
    "```\n",
    "To do this, you need to figure out how :\n",
    "- Iterate a variable\n",
    "- compare that variable to a constant\n",
    "- Start the loop over again.\n",
    "\n",
    "``` c\n",
    ".data\n",
    ".balign 4\n",
    "\tstring: \t.asciz \"\\n x = %d\"\n",
    ".balign 4\n",
    "\tcomment: \t.asciz \"\\n Limit = %d\"\n",
    ".balign 4\n",
    "\tx: \t\t\t.word 0\n",
    ".balign 4\n",
    "\tlimit: \t\t.word 15\n",
    "\t\n",
    "\t\n",
    ".text\n",
    ".balign 4\n",
    ".global main\n",
    ".extern printf\n",
    "\n",
    "main:\n",
    "\tpush {ip,lr}\n",
    "\t\n",
    "\tldr \tr0, =x\n",
    "\tmov \tr1, #1\n",
    "\tstr \tr1, [r0]\n",
    "\t\n",
    "\tldr r0, =comment\n",
    "\tldr r1, =limit\n",
    "\tldr r1, [r1]\n",
    "\tbl printf\n",
    "\t\n",
    "dooo:\n",
    "\tldr\t\tr0, =string\n",
    "\tldr \tr1, =x\n",
    "\tldr \tr1, [r1]\n",
    "\tbl printf\n",
    "\t\n",
    "\tldr r0, =x\n",
    "\tldr r1, [r0]\n",
    "\tadd r1, r1,#1\n",
    "\tstr r1, [r0]\n",
    "\tldr r2,=limit\n",
    "\tldr r2, [r2]\n",
    "\tcmp r1, r2\n",
    "\tblt dooo\t\t\t\t@BLTs are an overrated sandwich :/\n",
    "\n",
    "\t\n",
    "\tpop {ip,pc}\n",
    "```"
   ]
  },
  {
   "cell_type": "markdown",
   "metadata": {},
   "source": [
    "# Testing Design & Result"
   ]
  },
  {
   "cell_type": "code",
   "execution_count": 4,
   "metadata": {
    "scrolled": true
   },
   "outputs": [
    {
     "ename": "SyntaxError",
     "evalue": "invalid syntax (<ipython-input-4-da81167a91a3>, line 1)",
     "output_type": "error",
     "traceback": [
      "\u001b[1;36m  File \u001b[1;32m\"<ipython-input-4-da81167a91a3>\"\u001b[1;36m, line \u001b[1;32m1\u001b[0m\n\u001b[1;33m    $ ./dowhile\u001b[0m\n\u001b[1;37m    ^\u001b[0m\n\u001b[1;31mSyntaxError\u001b[0m\u001b[1;31m:\u001b[0m invalid syntax\n"
     ]
    }
   ],
   "source": [
    "$ ./dowhile\n",
    "x = 1\n",
    "x = 2\n",
    "x = 3\n",
    "x = 4\n",
    "x = 5\n",
    "...\n",
    "x = 14"
   ]
  },
  {
   "cell_type": "code",
   "execution_count": null,
   "metadata": {
    "collapsed": true,
    "scrolled": true
   },
   "outputs": [],
   "source": [
    "!cat mergeoriginal.s"
   ]
  },
  {
   "cell_type": "markdown",
   "metadata": {},
   "source": [
    "# Sub Project 2 Solution Discussion \n",
    "\n",
    "For this part of the project we were meant to create a non recursive merge sort in assembly. Below is the loop written in C\n",
    "\n",
    "``` c\n",
    "float a[50000000],b[50000000];\n",
    "void mergesort (long num)\n",
    "{\n",
    "    int rght, wid, rend;\n",
    "    int i,j,m,t;\n",
    "\n",
    "    for (int k=1; k < num; k *= 2 ) {       \n",
    "        for (int left=0; left+k < num; left += k*2 ) {\n",
    "            rght = left + k;        \n",
    "            rend = rght + k;\n",
    "            if (rend > num) rend = num; \n",
    "            m = left; i = left; j = rght; \n",
    "            while (i < rght && j < rend) { \n",
    "                if (a[i] <= a[j]) {         \n",
    "                    b[m] = a[i]; i++;\n",
    "                } else {\n",
    "                    b[m] = a[j]; j++;\n",
    "                }\n",
    "                m++;\n",
    "            }\n",
    "            while (i < rght) { \n",
    "                b[m]=a[i]; \n",
    "                i++; m++;\n",
    "            }\n",
    "            while (j < rend) { \n",
    "                b[m]=a[j]; \n",
    "                j++; m++;\n",
    "            }\n",
    "            for (m=left; m < rend; m++) { \n",
    "                a[m] = b[m]; \n",
    "            }\n",
    "        }\n",
    "    }\n",
    "}\n",
    "```\n",
    "We were meant to translate that to assembly. \n",
    "To do that we'd need to write each statement as a seperate function in assembly. (each if, for, while...)"
   ]
  },
  {
   "cell_type": "markdown",
   "metadata": {},
   "source": [
    "# Discussion of Solution"
   ]
  },
  {
   "cell_type": "code",
   "execution_count": 2,
   "metadata": {
    "scrolled": true
   },
   "outputs": [
    {
     "ename": "SyntaxError",
     "evalue": "invalid syntax (<ipython-input-2-80aa14fa9a6e>, line 1)",
     "output_type": "error",
     "traceback": [
      "\u001b[1;36m  File \u001b[1;32m\"<ipython-input-2-80aa14fa9a6e>\"\u001b[1;36m, line \u001b[1;32m1\u001b[0m\n\u001b[1;33m    .data\u001b[0m\n\u001b[1;37m    ^\u001b[0m\n\u001b[1;31mSyntaxError\u001b[0m\u001b[1;31m:\u001b[0m invalid syntax\n"
     ]
    }
   ],
   "source": [
    ".data\n",
    ".balign 4\n",
    "   string:  .asciz \"\\n A[%d] = : %d\"\n",
    ".balign 4\n",
    "   string2: .asciz \"\\n k= %d,left=%d\"\n",
    ".balign 4\n",
    "   string3: .asciz \"\\n B[%d] = %d\"\n",
    ".balign 4\n",
    "   string4: .asciz \"\\n\\n\\n\\nSorted Array:\"\n",
    ".balign 4\n",
    "   It:  .word 0\n",
    ".balign 4\n",
    "   A:       .skip 512 @128*4\n",
    ".balign 4\n",
    "   N:  .word 128\n",
    ".balign 4\n",
    "   B:       .skip 512 @128*4\n",
    "\n",
    "/* CODE SECTION */\n",
    ".text\n",
    ".balign 4\n",
    ".global main\n",
    ".extern printf\n",
    ".extern rand\n",
    "\n",
    "main:\n",
    "    push    {ip,lr}     @ This is needed to return to the Operating System\n",
    "\n",
    "    @@@  This bloc of code uses R4,R5,  R0,R1,R2,R3 are used for the call to random\n",
    "    mov r5,#0           @ Initialize 128 elements in the array\n",
    "    ldr r4,=A\n",
    "loop1:\n",
    "    ldr r0,=N\n",
    "    ldr r0,[r0]\n",
    "    cmp r5, r0\n",
    "    bge end1\n",
    "    bl      rand\n",
    "    and r0,r0,#255\n",
    "    str r0, [r4], #4\n",
    "    add r5, r5, #1\n",
    "    b loop1                  /* Go to the beginning of the loop */\n",
    "end1:\n",
    "\n",
    "    mov r5,#0           @ Print out the array\n",
    "    ldr r4,=A\n",
    "loop2:\n",
    "    ldr r0,=N\n",
    "    ldr r0,[r0]\n",
    "    cmp r5, r0\n",
    "    beq end2\n",
    "    \n",
    "    ldr r0,=string\n",
    "    mov r1,r5\n",
    "    ldr r2,[r4],#4\n",
    "    \n",
    "    bl printf\n",
    "    add r5, r5, #1\n",
    "\n",
    "    b loop2                  /* Go to the beginning of the loop */\n",
    "end2:\n",
    "@@@@@@@@@@@@@@@@@@@@@@@@@@@@@@ OUTER LOOP @@@@@@@@@@@@@@@@@@@@@@@@@@\n",
    "\n",
    "\n",
    "@ num,r0\n",
    "@ k, r1\n",
    "@ left, r2\n",
    "        left .req r2\n",
    "        k    .req r1\n",
    "        num .req r0\n",
    "@    for (int k=1; k < num; k *= 2 ) {\n",
    "\n",
    "        mov k,#1\n",
    "\n",
    "OLoop1: ldr r0,=N       @ put &N into r0\n",
    "        ldr num,[r0]    @ (* (&N)) into r0 since r0 is num\n",
    "        cmp k,num\n",
    "        bge FinalPrint\n",
    "\n",
    "@        for (int left=0; left+k < num; left += k*2 ) {\n",
    "        mov left,#0\n",
    "OLoop2: add r3,left,k   @ left+k < num;\n",
    "        ldr r0,=N       @ put N into r0 since r0 is num\n",
    "        ldr num,[r0]\n",
    "        cmp r3,num\n",
    "        bge OLoop2e\n",
    "@ Here we can print out the loop variables to verify operation\n",
    "@ We will need to save the registers which printf will alter\n",
    "@ We can put these on the stack....\n",
    "        push {r0,r1,r2,r3}\n",
    "        ldr r0,=string2\n",
    "        bl  printf\n",
    "        pop {r0,r1,r2,r3}\n",
    "        @@@@@@@@@@@@@@@@@@@@@@@@@@@@@@@@@@@@@@@@@@@@@@@@@@\n",
    "            @rght = left + k;\n",
    "            @ rght has been set at line 76\n",
    "\n",
    "            @rend = rght + k;\n",
    "            rend .req r4\n",
    "            rght .req r3\n",
    "\n",
    "            add rend,rght,k\n",
    "\n",
    "            @if (rend > num) rend = num;\n",
    "\n",
    "            @ rend = (rend>num)?num:rend;\n",
    "            cmp rend,num\n",
    "            movgt rend,num\n",
    "\n",
    "            @m = left; i = left; j = rght;\n",
    "            m .req r5\n",
    "            i .req r6\n",
    "            j .req r7\n",
    "\n",
    "            mov m,left\n",
    "            mov i,left\n",
    "            mov j,rght\n",
    "\n",
    "            @while (i < rght && j < rend) {\n",
    " while1:    cmp i,rght\n",
    "            bge endWhile1\n",
    "            cmp j,rend\n",
    "            bge endWhile1\n",
    "            @    if (a[i] <= a[j]) {\n",
    "            ldr  r8,=A           @ r8 <- &A\n",
    "\n",
    "            add  r9,r8,i,lsl #2 @ because i*4 is the integer we want r9 <- &A + 4*i\n",
    "            ldr  r9,[r9]\n",
    "            @ ldr  r9,[r8,i,lsl #2]  This may be used instead to load the value into r9\n",
    "            add  r10,r8,j,lsl #2\n",
    "            ldr  r10,[r10]   @ place the value of a[j] into r10\n",
    "\n",
    "            cmp  r9,r10\n",
    "            @  r9 = (a[i] <= a[j])? r9:r10;\n",
    "            @  b[m] = r9\n",
    "            @  remember, r9 has a[i], r10 has a[j]\n",
    "            movgt  r9,r10  @ This is the else part\n",
    "            addgt  j,j,#1  @ this is the update in the \"else\" part\n",
    "            addle  i,i,#1  @ this is the update in the \"then\" part\n",
    "            ldr    r11,=B\n",
    "            add    r11,r11,m,lsl #2\n",
    "            str    r9,[r11]\n",
    "            add    m,m,#1\n",
    "            @        b[m] = a[i]; i++;\n",
    "            @    } else {\n",
    "\n",
    "            @        b[m] = a[j]; j++;\n",
    "            @    }\n",
    "            @    m++;\n",
    "            @}\n",
    "            b  while1\n",
    "    endWhile1:\n",
    "    while2: cmp  i,rght\n",
    "            bge  while2end\n",
    "            @while (i < rght) {\n",
    "            @    b[m]=a[i];\n",
    "            ldr  r8,=A\n",
    "            ldr  r9,[r8,i,lsl #2]\n",
    "            ldr  r8,=B\n",
    "            str  r9,[r8,m,lsl #2]\n",
    "            @    i++; m++;\n",
    "            add  i,i,#1\n",
    "            add  m,m,#1\n",
    "            @}\n",
    "            b  while2\n",
    "    while2end:\n",
    "    while3: cmp j,rend\n",
    "            bge while3end\n",
    "            @while (j < rend) {\n",
    "            @    b[m]=a[j];\n",
    "            ldr  r8,=A\n",
    "            ldr  r9,[r8,j,lsl #2]\n",
    "            ldr  r8,=B\n",
    "            str  r9,[r8,m,lsl #2]\n",
    "            @    j++; m++;\n",
    "            add  j,j,#1\n",
    "            add  m,m,#1\n",
    "            @}\n",
    "            b while3\n",
    "    while3end:\n",
    "            mov m,left\n",
    "    form:   cmp m,rend\n",
    "            bge formend\n",
    "\n",
    "\n",
    "            @for (m=left; m < rend; m++) {\n",
    "            @    a[m] = b[m];\n",
    "            ldr  r8,=B\n",
    "            ldr  r9,[r8,m,lsl #2]\n",
    "            ldr  r8,=A\n",
    "            str  r9,[r8,m,lsl #2]\n",
    "            add m,m,#1\n",
    "            @}\n",
    "            b form\n",
    "    formend:\n",
    "        @@@@@@@@@@@@@@@@@@@@@@@@@@@@@@@@@@@@@@@@@@@@@@@@@@\n",
    "        @ left .req r3\n",
    "        lsl r3,r1,#1   @ left += k*2\n",
    "        add r2,r2,r3\n",
    "        b OLoop2\n",
    "OLoop2e:\n",
    "        lsl r1,r1,#1\n",
    "        push {r0,r1,r2,r3}\n",
    "        ldr r0,=string2\n",
    "        bl  printf\n",
    "        pop {r0,r1,r2,r3}\n",
    "        b OLoop1\n",
    "OLoop1e:\n",
    "@@@@@@@@@@@@@@@@@@@@@@@@@@@@@@@@@@@@@@@@@@@@@@@@@@@@@@@@@@@@@@@@@@@@\n",
    "\n",
    "FinalPrint:\n",
    "\tmov r5, #0\t\n",
    "\tmov r6, #128\n",
    "\tldr r4, =B\n",
    "\t\t\n",
    "\tldr r0, =string4\n",
    "\tbl printf\n",
    "\t\n",
    "FinalPrant:\n",
    "\tcmp r5,r6\n",
    "\tbge FinalEnd\n",
    "\t\n",
    "\tldr r0,=string3\n",
    "\tmov r1, r5\n",
    "    ldr r2,[r4]\t\n",
    "       \n",
    "    bl  printf\n",
    "\t\n",
    "\tadd r5, r5,#1\n",
    "\tadd r4, r4,#4\n",
    "\tb FinalPrant\n",
    "\n",
    "FinalEnd:\n",
    "    mov     r0,#0\n",
    "    pop     {ip, pc}"
   ]
  },
  {
   "cell_type": "code",
   "execution_count": 3,
   "metadata": {
    "scrolled": true
   },
   "outputs": [
    {
     "name": "stderr",
     "output_type": "stream",
     "text": [
      "'cat' is not recognized as an internal or external command,\n",
      "operable program or batch file.\n"
     ]
    }
   ],
   "source": [
    "!cat mergeorignal.s"
   ]
  },
  {
   "cell_type": "markdown",
   "metadata": {},
   "source": [
    "# Sub Project 3 Solution Discussion "
   ]
  },
  {
   "cell_type": "markdown",
   "metadata": {
    "collapsed": true
   },
   "source": [
    "# Discussion of Solution"
   ]
  },
  {
   "cell_type": "code",
   "execution_count": null,
   "metadata": {
    "collapsed": true,
    "scrolled": true
   },
   "outputs": [],
   "source": []
  }
 ],
 "metadata": {
  "celltoolbar": "Edit Metadata",
  "kernelspec": {
   "display_name": "Python 3",
   "language": "python",
   "name": "python3"
  },
  "language_info": {
   "codemirror_mode": {
    "name": "ipython",
    "version": 3
   },
   "file_extension": ".py",
   "mimetype": "text/x-python",
   "name": "python",
   "nbconvert_exporter": "python",
   "pygments_lexer": "ipython3",
   "version": "3.6.1"
  }
 },
 "nbformat": 4,
 "nbformat_minor": 2
}
